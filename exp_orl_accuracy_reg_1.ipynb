{
 "cells": [
  {
   "cell_type": "markdown",
   "metadata": {},
   "source": [
    "## <font color='green'> <div align=\"center\">In the name of God </div></font>"
   ]
  },
  {
   "cell_type": "markdown",
   "metadata": {},
   "source": [
    "### <font color='red'> Author: Sayed Kamaledin Ghiasi-Shrirazi <a href=\"http://profsite.um.ac.ir/~k.ghiasi\">(http://profsite.um.ac.ir/~k.ghiasi)</a> </font>"
   ]
  },
  {
   "cell_type": "markdown",
   "metadata": {},
   "source": [
    "# Recognition accuracy experiments on the ORL face recognition dataset with a regularization parameter of $1.0$"
   ]
  },
  {
   "cell_type": "markdown",
   "metadata": {},
   "source": [
    "##### Importing general modules."
   ]
  },
  {
   "cell_type": "code",
   "execution_count": 1,
   "metadata": {},
   "outputs": [],
   "source": [
    "import numpy as np\n",
    "import matplotlib.pyplot as plt\n",
    "from matplotlib.patches import Ellipse\n",
    "import sklearn\n",
    "import scipy.stats as st\n",
    "import scipy.io as sio\n",
    "import time\n",
    "import matplotlib.image as mpimg\n",
    "import matplotlib as mpl"
   ]
  },
  {
   "cell_type": "markdown",
   "metadata": {},
   "source": [
    "##### Importing modules wtitten by the author"
   ]
  },
  {
   "cell_type": "code",
   "execution_count": 2,
   "metadata": {},
   "outputs": [],
   "source": [
    "from LinearDiscriminantAnalysis import LinearDiscriminantAnalysis\n",
    "from LDATrainingDataPreparation import TrainingData\n",
    "from NearestNeighbor import NearestNeighbor"
   ]
  },
  {
   "cell_type": "markdown",
   "metadata": {},
   "source": [
    "##### Setup"
   ]
  },
  {
   "cell_type": "code",
   "execution_count": 3,
   "metadata": {},
   "outputs": [],
   "source": [
    "C  = 40\n",
    "spc = 10 # sample per class\n",
    "K = 4\n",
    "maxVqIteration = 100\n",
    "width = 92\n",
    "height = 112\n",
    "reg = 1"
   ]
  },
  {
   "cell_type": "markdown",
   "metadata": {},
   "source": [
    "##### Load dataset"
   ]
  },
  {
   "cell_type": "code",
   "execution_count": 4,
   "metadata": {},
   "outputs": [],
   "source": [
    "path = '../datasets/orl_faces'\n",
    "X = np.zeros ([C, spc, height, width])\n",
    "\n",
    "for c in range (C):\n",
    "    for i in range (spc):\n",
    "        file = path + '/s' + str(c+1) + '/' + str(i+1) + '.pgm' \n",
    "        X[c,i,:,:] = mpimg.imread (file) / 255\n",
    "        img = np.zeros ([height,width, 3])\n",
    "        img[:,:,0] = img[:,:,1] = img[:,:,2] = X[c,i]\n",
    "        #plt.imshow (img)\n",
    "        #plt.show()"
   ]
  },
  {
   "cell_type": "markdown",
   "metadata": {},
   "source": [
    "##### Defining a function for computing accuracy on a specific dataset (i.e. a fold)"
   ]
  },
  {
   "cell_type": "code",
   "execution_count": 5,
   "metadata": {},
   "outputs": [],
   "source": [
    "def compute_accuracy(XTrain, yTrain, XTest, yTest, solver, metric_learning, S1, S2, regularization, min_svd):\n",
    "    np.random.seed(1)\n",
    "    td = TrainingData(XTrain, yTrain)\n",
    "\n",
    "    clusAlg = sklearn.cluster.KMeans()\n",
    "    clusAlg.max_iter = maxVqIteration\n",
    "    td.findSubclasses(np.ones(C, dtype = int)*K, clusAlg)\n",
    "    \n",
    "    #for i in range(td.C):\n",
    "    #    for j in range (td.Ki[i]):\n",
    "    #        X = td.subclassMeans[i,j,:]\n",
    "    #        img = np.zeros ([height,width, 3])\n",
    "    #        img[:,:,0] = img[:,:,1] = img[:,:,2] = np.reshape(X, [height, width])\n",
    "    #        plt.imshow (img)\n",
    "    #        plt.show()    \n",
    "    \n",
    "    lda = LinearDiscriminantAnalysis(td, solver, metric_learning, S1, S2, regularization, min_svd)\n",
    "    lda.fitFeatureExtractor()\n",
    "    obj = lda.objective()\n",
    "    \n",
    "    XTrainFtr = lda.transform (XTrain)\n",
    "    XTestFtr  = lda.transform (XTest)\n",
    "    accNN = NearestNeighbor (XTrainFtr, yTrain, XTestFtr, yTest)\n",
    "    return accNN, obj"
   ]
  },
  {
   "cell_type": "markdown",
   "metadata": {},
   "source": [
    "##### Defining a function for computing average accuracy on 10 folds"
   ]
  },
  {
   "cell_type": "code",
   "execution_count": 6,
   "metadata": {},
   "outputs": [],
   "source": [
    "def compute_average_accuracy (solver, metric_learning, S1, S2, reg):\n",
    "    nFolds = 10\n",
    "    accNN = np.zeros ([nFolds])\n",
    "    obj = np.zeros ([nFolds])\n",
    "    np.random.seed(1)\n",
    "    for fold in range (nFolds):\n",
    "        XTrain1 = X[:,0:fold,:,:]\n",
    "        XTrain2 = X[:,fold+1:,:,:]\n",
    "        XTrain  = np.concatenate((XTrain1, XTrain2), axis = 1)\n",
    "        XTest   = X[:,fold,:,:]\n",
    "        yTrain   = np.repeat (range (C), spc-1)\n",
    "        yTest   = range (C)\n",
    "        XTrain = XTrain.reshape ([-1, height * width])\n",
    "        XTest = XTest.reshape ([-1, height * width]) \n",
    "        accNN[fold], obj[fold] = compute_accuracy(XTrain, yTrain, XTest, yTest, \n",
    "                                                  solver, metric_learning, S1, S2, reg, 0.0001)\n",
    "        print ('At fold ', fold, ' accNN=', accNN[fold], 'objective=', obj[fold])\n",
    "\n",
    "    return accNN, obj"
   ]
  },
  {
   "cell_type": "code",
   "execution_count": 7,
   "metadata": {},
   "outputs": [
    {
     "name": "stdout",
     "output_type": "stream",
     "text": [
      "At fold  0  accNN= 0.975 objective= 44.09327554403904\n",
      "At fold  1  accNN= 1.0 objective= 43.93907908622702\n",
      "At fold  2  accNN= 1.0 objective= 43.973650185193065\n",
      "At fold  3  accNN= 0.975 objective= 43.72115615410672\n",
      "At fold  4  accNN= 1.0 objective= 43.52848035880372\n",
      "At fold  5  accNN= 1.0 objective= 43.9665288186575\n",
      "At fold  6  accNN= 1.0 objective= 44.147743047910524\n",
      "At fold  7  accNN= 0.975 objective= 43.79392878073638\n",
      "At fold  8  accNN= 0.975 objective= 44.16226587823237\n",
      "At fold  9  accNN= 0.925 objective= 44.16640024718808\n",
      "\n",
      "accNN Mean:  98.25 Std of Mean Accuracy:  2.25 Objective: 43.94925081010943 Std of Objective: 0.2017098882975104\n"
     ]
    }
   ],
   "source": [
    "solver = 'svd'\n",
    "S1 ='Sb'\n",
    "S2 = 'St'\n",
    "accNN, obj = compute_average_accuracy (solver, '', S1, S2, reg)\n",
    "for (name, acc) in [('accNN', accNN)]:\n",
    "    print ('')\n",
    "    acc *= 100\n",
    "    print (name , 'Mean: ', np.mean (acc), 'Std of Mean Accuracy: ', \n",
    "           np.std (acc), 'Objective:', np.mean(obj), 'Std of Objective:', np.std(obj))"
   ]
  },
  {
   "cell_type": "code",
   "execution_count": 8,
   "metadata": {},
   "outputs": [
    {
     "name": "stdout",
     "output_type": "stream",
     "text": [
      "At fold  0  accNN= 0.975 objective= 44.09327554403899\n",
      "At fold  1  accNN= 1.0 objective= 43.939079086227025\n",
      "At fold  2  accNN= 1.0 objective= 43.97365018519305\n",
      "At fold  3  accNN= 0.975 objective= 43.721156154106716\n",
      "At fold  4  accNN= 0.975 objective= 43.52848035880375\n",
      "At fold  5  accNN= 1.0 objective= 43.96652881865755\n",
      "At fold  6  accNN= 0.95 objective= 44.147743047910524\n",
      "At fold  7  accNN= 0.95 objective= 43.79392878073638\n",
      "At fold  8  accNN= 0.975 objective= 44.162265878232375\n",
      "At fold  9  accNN= 0.9 objective= 44.166400247188086\n",
      "\n",
      "accNN Mean:  97.0 Std of Mean Accuracy:  2.9154759474226504 Objective: 43.94925081010945 Std of Objective: 0.2017098882975035\n"
     ]
    }
   ],
   "source": [
    "solver = 'ghiasi_svd'\n",
    "S1 ='Sb'\n",
    "S2 = 'St'\n",
    "accNN, obj = compute_average_accuracy (solver, 'none', S1, S2, reg)\n",
    "for (name, acc) in [('accNN', accNN)]:\n",
    "    print ('')\n",
    "    acc *= 100\n",
    "    print (name , 'Mean: ', np.mean (acc), 'Std of Mean Accuracy: ', \n",
    "           np.std (acc), 'Objective:', np.mean(obj), 'Std of Objective:', np.std(obj))"
   ]
  },
  {
   "cell_type": "code",
   "execution_count": 9,
   "metadata": {},
   "outputs": [
    {
     "name": "stdout",
     "output_type": "stream",
     "text": [
      "At fold  0  accNN= 0.975 objective= 44.09327554403902\n",
      "At fold  1  accNN= 1.0 objective= 43.939079086227025\n",
      "At fold  2  accNN= 1.0 objective= 43.97365018519308\n",
      "At fold  3  accNN= 0.975 objective= 43.721156154106716\n",
      "At fold  4  accNN= 1.0 objective= 43.52848035880373\n",
      "At fold  5  accNN= 1.0 objective= 43.9665288186575\n",
      "At fold  6  accNN= 1.0 objective= 44.14774304791051\n",
      "At fold  7  accNN= 0.975 objective= 43.79392878073638\n",
      "At fold  8  accNN= 0.975 objective= 44.16226587823238\n",
      "At fold  9  accNN= 0.925 objective= 44.166400247188086\n",
      "\n",
      "accNN Mean:  98.25 Std of Mean Accuracy:  2.25 Objective: 43.94925081010945 Std of Objective: 0.20170988829750774\n"
     ]
    }
   ],
   "source": [
    "solver = 'ghiasi_svd'\n",
    "S1 ='Sb'\n",
    "S2 = 'St'\n",
    "accNN, obj = compute_average_accuracy (solver, 'eig', S1, S2, reg)\n",
    "for (name, acc) in [('accNN', accNN)]:\n",
    "    print ('')\n",
    "    acc *= 100\n",
    "    print (name , 'Mean: ', np.mean (acc), 'Std of Mean Accuracy: ', \n",
    "           np.std (acc), 'Objective:', np.mean(obj), 'Std of Objective:', np.std(obj))"
   ]
  },
  {
   "cell_type": "markdown",
   "metadata": {},
   "source": [
    "### <font color='red'> Author: Sayed Kamaledin Ghiasi-Shrirazi <a href=\"http://profsite.um.ac.ir/~k.ghiasi\">(http://profsite.um.ac.ir/~k.ghiasi)</a> </font>"
   ]
  }
 ],
 "metadata": {
  "kernelspec": {
   "display_name": "Python 3",
   "language": "python",
   "name": "python3"
  },
  "language_info": {
   "codemirror_mode": {
    "name": "ipython",
    "version": 3
   },
   "file_extension": ".py",
   "mimetype": "text/x-python",
   "name": "python",
   "nbconvert_exporter": "python",
   "pygments_lexer": "ipython3",
   "version": "3.8.5"
  }
 },
 "nbformat": 4,
 "nbformat_minor": 2
}
