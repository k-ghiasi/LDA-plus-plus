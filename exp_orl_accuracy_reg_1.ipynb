{
 "cells": [
  {
   "cell_type": "markdown",
   "metadata": {},
   "source": [
    "## <font color='green'> <div align=\"center\">In the name of God </div></font>"
   ]
  },
  {
   "cell_type": "markdown",
   "metadata": {},
   "source": [
    "### <font color='red'> Author: Sayed Kamaledin Ghiasi-Shrirazi <a href=\"http://profsite.um.ac.ir/~k.ghiasi\">(http://profsite.um.ac.ir/~k.ghiasi)</a> </font>"
   ]
  },
  {
   "cell_type": "markdown",
   "metadata": {},
   "source": [
    "# Recognition accuracy experiments on the ORL face recognition dataset with a regularization parameter of $1.0$"
   ]
  },
  {
   "cell_type": "markdown",
   "metadata": {},
   "source": [
    "##### Importing general modules."
   ]
  },
  {
   "cell_type": "code",
   "execution_count": 1,
   "metadata": {},
   "outputs": [],
   "source": [
    "import numpy as np\n",
    "import matplotlib.pyplot as plt\n",
    "from matplotlib.patches import Ellipse\n",
    "import sklearn\n",
    "import scipy.stats as st\n",
    "import scipy.io as sio\n",
    "import time\n",
    "import matplotlib.image as mpimg\n",
    "import matplotlib as mpl"
   ]
  },
  {
   "cell_type": "markdown",
   "metadata": {},
   "source": [
    "##### Importing modules wtitten by the author"
   ]
  },
  {
   "cell_type": "code",
   "execution_count": 2,
   "metadata": {},
   "outputs": [],
   "source": [
    "from LinearDiscriminantAnalysis import LinearDiscriminantAnalysis\n",
    "from LDATrainingDataPreparation import TrainingData\n",
    "from NearestNeighbor import NearestNeighbor"
   ]
  },
  {
   "cell_type": "markdown",
   "metadata": {},
   "source": [
    "##### Setup"
   ]
  },
  {
   "cell_type": "code",
   "execution_count": 3,
   "metadata": {},
   "outputs": [],
   "source": [
    "C  = 40\n",
    "spc = 10 # sample per class\n",
    "K = 4\n",
    "maxVqIteration = 100\n",
    "width = 92\n",
    "height = 112\n",
    "reg = 1"
   ]
  },
  {
   "cell_type": "markdown",
   "metadata": {},
   "source": [
    "##### Load dataset"
   ]
  },
  {
   "cell_type": "code",
   "execution_count": 4,
   "metadata": {},
   "outputs": [],
   "source": [
    "path = '../datasets/orl_faces'\n",
    "X = np.zeros ([C, spc, height, width])\n",
    "\n",
    "for c in range (C):\n",
    "    for i in range (spc):\n",
    "        file = path + '/s' + str(c+1) + '/' + str(i+1) + '.pgm' \n",
    "        X[c,i,:,:] = mpimg.imread (file) / 255\n",
    "        img = np.zeros ([height,width, 3])\n",
    "        img[:,:,0] = img[:,:,1] = img[:,:,2] = X[c,i]\n",
    "        #plt.imshow (img)\n",
    "        #plt.show()"
   ]
  },
  {
   "cell_type": "markdown",
   "metadata": {},
   "source": [
    "##### Defining a function for computing accuracy on a specific dataset (i.e. a fold)"
   ]
  },
  {
   "cell_type": "code",
   "execution_count": 5,
   "metadata": {},
   "outputs": [],
   "source": [
    "def compute_accuracy(XTrain, yTrain, XTest, yTest, solver, S1, S2, regularization, min_svd):\n",
    "    np.random.seed(1)\n",
    "    td = TrainingData(XTrain, yTrain)\n",
    "\n",
    "    clusAlg = sklearn.cluster.KMeans()\n",
    "    clusAlg.max_iter = maxVqIteration\n",
    "    td.findSubclasses(np.ones(C, dtype = int)*K, clusAlg)\n",
    "    \n",
    "    #for i in range(td.C):\n",
    "    #    for j in range (td.Ki[i]):\n",
    "    #        X = td.subclassMeans[i,j,:]\n",
    "    #        img = np.zeros ([height,width, 3])\n",
    "    #        img[:,:,0] = img[:,:,1] = img[:,:,2] = np.reshape(X, [height, width])\n",
    "    #        plt.imshow (img)\n",
    "    #        plt.show()    \n",
    "    \n",
    "    lda = LinearDiscriminantAnalysis(td, solver, S1, S2, regularization, min_svd)\n",
    "    lda.fitFeatureExtractor()\n",
    "    obj = lda.objective()\n",
    "    \n",
    "    XTrainFtr = lda.transform (XTrain)\n",
    "    XTestFtr  = lda.transform (XTest)\n",
    "    accNN = NearestNeighbor (XTrainFtr, yTrain, XTestFtr, yTest)\n",
    "    return accNN, obj"
   ]
  },
  {
   "cell_type": "markdown",
   "metadata": {},
   "source": [
    "##### Defining a function for computing average accuracy on 10 folds"
   ]
  },
  {
   "cell_type": "code",
   "execution_count": 6,
   "metadata": {},
   "outputs": [],
   "source": [
    "def compute_average_accuracy (solver, S1, S2, reg):\n",
    "    nFolds = 10\n",
    "    accNN = np.zeros ([nFolds])\n",
    "    obj = np.zeros ([nFolds])\n",
    "    np.random.seed(1)\n",
    "    for fold in range (nFolds):\n",
    "        XTrain1 = X[:,0:fold,:,:]\n",
    "        XTrain2 = X[:,fold+1:,:,:]\n",
    "        XTrain  = np.concatenate((XTrain1, XTrain2), axis = 1)\n",
    "        XTest   = X[:,fold,:,:]\n",
    "        yTrain   = np.repeat (range (C), spc-1)\n",
    "        yTest   = range (C)\n",
    "        XTrain = XTrain.reshape ([-1, height * width])\n",
    "        XTest = XTest.reshape ([-1, height * width]) \n",
    "        accNN[fold], obj[fold] = compute_accuracy(XTrain, yTrain, XTest, yTest, \n",
    "                                                  solver, S1, S2, reg, 0.0001)\n",
    "        print ('At fold ', fold, ' accNN=', accNN[fold], 'objective=', obj[fold])\n",
    "\n",
    "    return accNN, obj"
   ]
  },
  {
   "cell_type": "code",
   "execution_count": 9,
   "metadata": {},
   "outputs": [
    {
     "name": "stdout",
     "output_type": "stream",
     "text": [
      "At fold  0  accNN= 0.975 objective= 44.04858448842951\n",
      "At fold  1  accNN= 1.0 objective= 43.881405635342674\n",
      "At fold  2  accNN= 1.0 objective= 43.87552294692139\n",
      "At fold  3  accNN= 0.975 objective= 43.71763290320771\n",
      "At fold  4  accNN= 1.0 objective= 43.58877835772613\n",
      "At fold  5  accNN= 1.0 objective= 43.942108058934785\n",
      "At fold  6  accNN= 1.0 objective= 44.121398153423044\n",
      "At fold  7  accNN= 0.975 objective= 43.762383995250204\n",
      "At fold  8  accNN= 0.975 objective= 44.1483491170807\n",
      "At fold  9  accNN= 0.925 objective= 44.17297225590961\n",
      "\n",
      "accNN Mean:  98.25 Std of Mean Accuracy:  2.25 Objective: 43.92591359122257 Std of Objective: 0.18770809397005267\n"
     ]
    }
   ],
   "source": [
    "solver = 'svd'\n",
    "S1 ='Sb'\n",
    "S2 = 'St'\n",
    "accNN, obj = compute_average_accuracy (solver, S1, S2, reg)\n",
    "for (name, acc) in [('accNN', accNN)]:\n",
    "    print ('')\n",
    "    acc *= 100\n",
    "    print (name , 'Mean: ', np.mean (acc), 'Std of Mean Accuracy: ', \n",
    "           np.std (acc), 'Objective:', np.mean(obj), 'Std of Objective:', np.std(obj))"
   ]
  },
  {
   "cell_type": "code",
   "execution_count": 8,
   "metadata": {},
   "outputs": [
    {
     "name": "stdout",
     "output_type": "stream",
     "text": [
      "At fold  0  accNN= 0.975 objective= 44.04858448842953\n",
      "At fold  1  accNN= 1.0 objective= 43.88140563534269\n",
      "At fold  2  accNN= 1.0 objective= 43.8755229469214\n",
      "At fold  3  accNN= 0.95 objective= 43.71763290320773\n",
      "At fold  4  accNN= 0.975 objective= 43.58877835772611\n",
      "At fold  5  accNN= 1.0 objective= 43.942108058934814\n",
      "At fold  6  accNN= 0.95 objective= 44.12139815342312\n",
      "At fold  7  accNN= 0.975 objective= 43.762383995250175\n",
      "At fold  8  accNN= 0.95 objective= 44.1483491170807\n",
      "At fold  9  accNN= 0.95 objective= 44.172972255909535\n",
      "\n",
      "accNN Mean:  97.25 Std of Mean Accuracy:  2.0766559657295187 Objective: 43.92591359122259 Std of Objective: 0.1877080939700543\n"
     ]
    }
   ],
   "source": [
    "solver = 'ghiasi_svd'\n",
    "S1 ='Sb'\n",
    "S2 = 'St'\n",
    "accNN, obj = compute_average_accuracy (solver, S1, S2, reg)\n",
    "for (name, acc) in [('accNN', accNN)]:\n",
    "    print ('')\n",
    "    acc *= 100\n",
    "    print (name , 'Mean: ', np.mean (acc), 'Std of Mean Accuracy: ', \n",
    "           np.std (acc), 'Objective:', np.mean(obj), 'Std of Objective:', np.std(obj))"
   ]
  },
  {
   "cell_type": "markdown",
   "metadata": {},
   "source": [
    "### <font color='red'> Author: Sayed Kamaledin Ghiasi-Shrirazi <a href=\"http://profsite.um.ac.ir/~k.ghiasi\">(http://profsite.um.ac.ir/~k.ghiasi)</a> </font>"
   ]
  }
 ],
 "metadata": {
  "kernelspec": {
   "display_name": "Python 3",
   "language": "python",
   "name": "python3"
  },
  "language_info": {
   "codemirror_mode": {
    "name": "ipython",
    "version": 3
   },
   "file_extension": ".py",
   "mimetype": "text/x-python",
   "name": "python",
   "nbconvert_exporter": "python",
   "pygments_lexer": "ipython3",
   "version": "3.8.5"
  }
 },
 "nbformat": 4,
 "nbformat_minor": 2
}
