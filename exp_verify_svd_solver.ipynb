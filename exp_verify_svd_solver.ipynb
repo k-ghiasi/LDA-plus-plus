{
 "cells": [
  {
   "cell_type": "markdown",
   "metadata": {},
   "source": [
    "## <font color='green'> <div align=\"center\">In the name of God </div></font>"
   ]
  },
  {
   "cell_type": "markdown",
   "metadata": {},
   "source": [
    "### <font color='red'> Author: Sayed Kamaledin Ghiasi-Shrirazi <a href=\"http://profsite.um.ac.ir/~k.ghiasi\">(http://profsite.um.ac.ir/~k.ghiasi)</a> </font>"
   ]
  },
  {
   "cell_type": "markdown",
   "metadata": {},
   "source": [
    "# Showing that when S2='Sw', then the 'svd' solver does not solve the generalized eigenvalue problem"
   ]
  },
  {
   "cell_type": "code",
   "execution_count": 1,
   "metadata": {},
   "outputs": [],
   "source": [
    "import numpy as np"
   ]
  },
  {
   "cell_type": "markdown",
   "metadata": {},
   "source": [
    "## Constructing a dataset with 2 classes, 4 samples, and 4 dimensions"
   ]
  },
  {
   "cell_type": "code",
   "execution_count": 2,
   "metadata": {},
   "outputs": [],
   "source": [
    "C = 2\n",
    "D  = 4\n",
    "N = 4\n",
    "N1 = 2\n",
    "N2 = 2"
   ]
  },
  {
   "cell_type": "code",
   "execution_count": 3,
   "metadata": {},
   "outputs": [],
   "source": [
    "X = [[-2, -1, -1, -1],\n",
    "     [-1,  1, -1,  1],\n",
    "     [-1,  1,  1,  -1],          \n",
    "     [1,  1,  -1, -2]]\n",
    "X = np.array (X, dtype = float)\n",
    "y = np.array ([1,1,2,2])"
   ]
  },
  {
   "cell_type": "code",
   "execution_count": 4,
   "metadata": {},
   "outputs": [
    {
     "name": "stdout",
     "output_type": "stream",
     "text": [
      "[-0.75  0.5  -0.5  -0.75] [-1.5  0.  -1.   0. ] [ 0.   1.   0.  -1.5]\n"
     ]
    }
   ],
   "source": [
    "mu_1 = np.mean (X[0:2,:], axis = 0)\n",
    "mu_2 = np.mean (X[2:4,:], axis = 0)\n",
    "mu   = np.mean (X, axis = 0)\n",
    "print (mu, mu_1, mu_2)"
   ]
  },
  {
   "cell_type": "code",
   "execution_count": 5,
   "metadata": {},
   "outputs": [],
   "source": [
    "def computeSb(X, Ni, C):\n",
    "    N, dim = X.shape\n",
    "    Sb = 0\n",
    "    M = np.mean(X, axis=0)\n",
    "    idx1 = 0\n",
    "    for c in range (C):\n",
    "        idx2 = idx1 + Ni[c]\n",
    "        Mc = np.mean(X[idx1:idx2,:], axis = 0) - M\n",
    "        Sb = Sb + Ni[c] / N * np.outer (Mc, Mc)\n",
    "    return Sb"
   ]
  },
  {
   "cell_type": "code",
   "execution_count": 6,
   "metadata": {},
   "outputs": [],
   "source": [
    "def computeSw(X, Ni, C):\n",
    "    N, dim = X.shape\n",
    "    Sw = 0\n",
    "    Xnew = X.copy()\n",
    "    idx1 = 0\n",
    "    for c in range (C):\n",
    "            idx2 = idx1 + Ni[c]\n",
    "            Xnew[idx1:idx2,:] -= np.mean(Xnew[idx1:idx2,:], axis = 0)\n",
    "            idx1 = idx2\n",
    "    Sw = Xnew.T @ Xnew  / N\n",
    "    return Sw"
   ]
  },
  {
   "cell_type": "code",
   "execution_count": 7,
   "metadata": {},
   "outputs": [],
   "source": [
    "def computeSt(X):\n",
    "    N, dim = X.shape\n",
    "    M = np.mean(X, axis=0)\n",
    "    X = X - M\n",
    "    St = 1 / N * X.T @ X\n",
    "    return St"
   ]
  },
  {
   "cell_type": "markdown",
   "metadata": {},
   "source": [
    "# <font color='red'> First we run the SVD algorithm with $S_1=S_b$ and $S_2=S_w$</font>"
   ]
  },
  {
   "cell_type": "markdown",
   "metadata": {},
   "source": [
    "## 1: Compute $H_1$ and $H_2$"
   ]
  },
  {
   "cell_type": "code",
   "execution_count": 8,
   "metadata": {},
   "outputs": [
    {
     "name": "stdout",
     "output_type": "stream",
     "text": [
      "Hb=\n",
      " [[-0.53033009 -0.35355339 -0.35355339  0.53033009]\n",
      " [ 0.53033009  0.35355339  0.35355339 -0.53033009]]\n",
      "Hw=\n",
      " [[-0.25 -0.5   0.   -0.5 ]\n",
      " [ 0.25  0.5   0.    0.5 ]\n",
      " [-0.5   0.    0.5   0.25]\n",
      " [ 0.5   0.   -0.5  -0.25]]\n"
     ]
    }
   ],
   "source": [
    "Hb = np.array([np.sqrt(N1/N) * (mu_1-mu), np.sqrt(N2/N) * (mu_2-mu)])\n",
    "Hw = 1/np.sqrt(N) * np.array([X[0,:]- mu_1, X[1,:]- mu_1, X[2,:]- mu_2, X[3,:]- mu_2])\n",
    "print ('Hb=\\n', Hb)\n",
    "print ('Hw=\\n', Hw)"
   ]
  },
  {
   "cell_type": "markdown",
   "metadata": {},
   "source": [
    "## Checking that $H_1$ and $H_2$ are computed correctly"
   ]
  },
  {
   "cell_type": "code",
   "execution_count": 9,
   "metadata": {},
   "outputs": [
    {
     "name": "stdout",
     "output_type": "stream",
     "text": [
      "0.0\n",
      "2.9373740229761033e-16\n"
     ]
    }
   ],
   "source": [
    "Ni = np.array ([2,2], dtype=int)\n",
    "Sb = computeSb(X, Ni, C)\n",
    "Sw = computeSw(X, Ni, C)\n",
    "print (np.linalg.norm (Hw.T @ Hw - Sw ))\n",
    "print (np.linalg.norm (Hb.T @ Hb - Sb ))"
   ]
  },
  {
   "cell_type": "markdown",
   "metadata": {},
   "source": [
    "## 2: Compute the reduced SVD of $H_2$ to obtain $H_2=U\\Sigma V^T$"
   ]
  },
  {
   "cell_type": "code",
   "execution_count": 10,
   "metadata": {},
   "outputs": [],
   "source": [
    "U, Sigma, VH = np.linalg.svd(Hw, full_matrices=False)\n",
    "idx = Sigma > 10e-6\n",
    "SigmaInv = np.diag (1/Sigma[idx])\n",
    "Sigma = np.diag (Sigma[idx])\n",
    "V = VH.T\n",
    "V = V[:,idx]"
   ]
  },
  {
   "cell_type": "markdown",
   "metadata": {},
   "source": [
    "## Checking that $V$ is computed correctly"
   ]
  },
  {
   "cell_type": "code",
   "execution_count": 11,
   "metadata": {},
   "outputs": [
    {
     "name": "stdout",
     "output_type": "stream",
     "text": [
      "5.574188198562492e-16\n"
     ]
    }
   ],
   "source": [
    "print (np.linalg.norm(V @ Sigma @ Sigma @ V.T - Sw))"
   ]
  },
  {
   "cell_type": "markdown",
   "metadata": {},
   "source": [
    "\n",
    "\n",
    "## 3: Compute $Y=H_1 V \\Sigma^{-1}$"
   ]
  },
  {
   "cell_type": "code",
   "execution_count": 12,
   "metadata": {},
   "outputs": [
    {
     "name": "stdout",
     "output_type": "stream",
     "text": [
      "[[ 0.0745356 -0.2732972]\n",
      " [-0.0745356  0.2732972]]\n"
     ]
    }
   ],
   "source": [
    "Y = Hb @ V @ SigmaInv\n",
    "print (Y)"
   ]
  },
  {
   "cell_type": "markdown",
   "metadata": {},
   "source": [
    "## 4: Compute reduced SVD of $Y$ to obtain $Y=\\tilde{U}\\tilde{\\Sigma}\\tilde{V}^T$"
   ]
  },
  {
   "cell_type": "code",
   "execution_count": 13,
   "metadata": {},
   "outputs": [
    {
     "name": "stdout",
     "output_type": "stream",
     "text": [
      "[[-0.26311741]\n",
      " [ 0.96476382]]\n"
     ]
    }
   ],
   "source": [
    "U_tilde, Sigma_tilde, VH_tilde = np.linalg.svd(Y, full_matrices=False)\n",
    "idx = Sigma_tilde > 10e-6\n",
    "Sigma_tildeInv = np.diag (1/Sigma_tilde[idx])\n",
    "Sigma_tilde = np.diag (Sigma_tilde[idx])\n",
    "V_tilde = VH_tilde.T\n",
    "V_tilde = V_tilde[:,idx]\n",
    "print (V_tilde)"
   ]
  },
  {
   "cell_type": "markdown",
   "metadata": {},
   "source": [
    "## 5: $A=V\\Sigma^{-1}\\tilde{V}$"
   ]
  },
  {
   "cell_type": "code",
   "execution_count": 14,
   "metadata": {},
   "outputs": [
    {
     "name": "stdout",
     "output_type": "stream",
     "text": [
      "[[ 0.67796691]\n",
      " [ 0.12326671]\n",
      " [-0.61633355]\n",
      " [-0.18490007]]\n"
     ]
    }
   ],
   "source": [
    "A_w = V @ SigmaInv @ V_tilde\n",
    "print (A_w)"
   ]
  },
  {
   "cell_type": "markdown",
   "metadata": {},
   "source": [
    "## 6: Computing objective function for the solution $A$ when $S_2=S_w$"
   ]
  },
  {
   "cell_type": "code",
   "execution_count": 15,
   "metadata": {},
   "outputs": [
    {
     "name": "stdout",
     "output_type": "stream",
     "text": [
      "Objective Value =  0.13829787234042565\n"
     ]
    }
   ],
   "source": [
    "Sb = Hb.T @ Hb\n",
    "Sw = Hw.T @ Hw\n",
    "St = Sw + Sb\n",
    "StY = A_w.T @ St @ A_w\n",
    "SbY = A_w.T @ Sb @ A_w\n",
    "obj_sw = np.trace(np.linalg.pinv (StY) @ SbY)\n",
    "print ('Objective Value = ', obj_sw)"
   ]
  },
  {
   "cell_type": "markdown",
   "metadata": {},
   "source": [
    "# <font color='red'> Now we run the SVD algorithm with $S_1=S_b$ and $S_2=S_t$</font>"
   ]
  },
  {
   "cell_type": "markdown",
   "metadata": {},
   "source": [
    "## 1: Compute $H_1$ and $H_2$"
   ]
  },
  {
   "cell_type": "code",
   "execution_count": 16,
   "metadata": {},
   "outputs": [
    {
     "name": "stdout",
     "output_type": "stream",
     "text": [
      "Hb=\n",
      " [[-0.53033009 -0.35355339 -0.35355339  0.53033009]\n",
      " [ 0.53033009  0.35355339  0.35355339 -0.53033009]]\n",
      "Ht=\n",
      " [[-0.25 -0.5   0.   -0.5 ]\n",
      " [ 0.25  0.5   0.    0.5 ]\n",
      " [-0.5   0.    0.5   0.25]\n",
      " [ 0.5   0.   -0.5  -0.25]]\n"
     ]
    }
   ],
   "source": [
    "Hb = np.array([np.sqrt(N1/N) * (mu_1-mu), np.sqrt(N2/N) * (mu_2-mu)])\n",
    "Ht = 1/np.sqrt(N) * (X-mu)\n",
    "print ('Hb=\\n', Hb)\n",
    "print ('Ht=\\n', Hw)"
   ]
  },
  {
   "cell_type": "markdown",
   "metadata": {},
   "source": [
    "## Checking that $H_1$ and $H_2$ are computed correctly"
   ]
  },
  {
   "cell_type": "code",
   "execution_count": 17,
   "metadata": {},
   "outputs": [
    {
     "name": "stdout",
     "output_type": "stream",
     "text": [
      "2.220446049250313e-16\n"
     ]
    }
   ],
   "source": [
    "print (np.linalg.norm (Ht.T @ Ht - St ))"
   ]
  },
  {
   "cell_type": "markdown",
   "metadata": {},
   "source": [
    "## 2: Compute the reduced SVD of $H_2$ to obtain $H_2=U\\Sigma V^T$"
   ]
  },
  {
   "cell_type": "code",
   "execution_count": 18,
   "metadata": {},
   "outputs": [],
   "source": [
    "U, Sigma, VH = np.linalg.svd(Ht, full_matrices=False)\n",
    "idx = Sigma > 10e-6\n",
    "SigmaInv = np.diag (1/Sigma[idx])\n",
    "Sigma = np.diag (Sigma[idx])\n",
    "V = VH.T\n",
    "V = V[:,idx]"
   ]
  },
  {
   "cell_type": "markdown",
   "metadata": {},
   "source": [
    "## Checking that $V$ is computed correctly"
   ]
  },
  {
   "cell_type": "code",
   "execution_count": 19,
   "metadata": {},
   "outputs": [
    {
     "name": "stdout",
     "output_type": "stream",
     "text": [
      "1.5279438074046465e-15\n"
     ]
    }
   ],
   "source": [
    "print (np.linalg.norm(V @ Sigma @ Sigma @ V.T - St))"
   ]
  },
  {
   "cell_type": "markdown",
   "metadata": {},
   "source": [
    "## 3: Compute $Y=H_1 V \\Sigma^{-1}$"
   ]
  },
  {
   "cell_type": "code",
   "execution_count": 20,
   "metadata": {},
   "outputs": [
    {
     "name": "stdout",
     "output_type": "stream",
     "text": [
      "[[-6.09317497e-01 -1.57009246e-16  3.58792680e-01]\n",
      " [ 6.09317497e-01  1.57009246e-16 -3.58792680e-01]]\n"
     ]
    }
   ],
   "source": [
    "Y = Hb @ V @ SigmaInv\n",
    "print (Y)"
   ]
  },
  {
   "cell_type": "markdown",
   "metadata": {},
   "source": [
    "## 4: Compute reduced SVD of $Y$ to obtain $Y=\\tilde{U}\\tilde{\\Sigma}\\tilde{V}^T$"
   ]
  },
  {
   "cell_type": "code",
   "execution_count": 21,
   "metadata": {},
   "outputs": [
    {
     "name": "stdout",
     "output_type": "stream",
     "text": [
      "[[ 8.61705068e-01]\n",
      " [ 2.22044605e-16]\n",
      " [-5.07409475e-01]]\n"
     ]
    }
   ],
   "source": [
    "U_tilde, Sigma_tilde, VH_tilde = np.linalg.svd(Y, full_matrices=False)\n",
    "idx = Sigma_tilde > 10e-6\n",
    "Sigma_tildeInv = np.diag (1/Sigma_tilde[idx])\n",
    "Sigma_tilde = np.diag (Sigma_tilde[idx])\n",
    "V_tilde = VH_tilde.T\n",
    "V_tilde = V_tilde[:,idx]\n",
    "print (V_tilde)"
   ]
  },
  {
   "cell_type": "markdown",
   "metadata": {},
   "source": [
    "## 5: $A=V\\Sigma^{-1}\\tilde{V}$"
   ]
  },
  {
   "cell_type": "code",
   "execution_count": 22,
   "metadata": {},
   "outputs": [
    {
     "name": "stdout",
     "output_type": "stream",
     "text": [
      "[[ 0.30769231]\n",
      " [ 0.30769231]\n",
      " [ 0.53846154]\n",
      " [-0.46153846]]\n"
     ]
    }
   ],
   "source": [
    "A_t = V @ SigmaInv @ V_tilde\n",
    "print (A_t)"
   ]
  },
  {
   "cell_type": "markdown",
   "metadata": {},
   "source": [
    "## 6: Computing objective function for the solution $A$ when $S_2=S_t$"
   ]
  },
  {
   "cell_type": "code",
   "execution_count": 23,
   "metadata": {},
   "outputs": [
    {
     "name": "stdout",
     "output_type": "stream",
     "text": [
      "Objective Value When S2=St:  1.0\n"
     ]
    }
   ],
   "source": [
    "Sb = Hb.T @ Hb\n",
    "Sw = Hw.T @ Hw\n",
    "St = Sw + Sb\n",
    "StY = A_t.T @ St @ A_t\n",
    "SbY = A_t.T @ Sb @ A_t\n",
    "obj_st = np.trace(np.linalg.pinv (StY) @ SbY)\n",
    "print ('Objective Value When S2=St: ', obj_st)"
   ]
  },
  {
   "cell_type": "markdown",
   "metadata": {},
   "source": [
    "## Comparing Objective values"
   ]
  },
  {
   "cell_type": "code",
   "execution_count": 24,
   "metadata": {},
   "outputs": [
    {
     "name": "stdout",
     "output_type": "stream",
     "text": [
      "Objective Value When S2=Sw:  0.13829787234042565\n",
      "Objective Value When S2=St:  1.0\n"
     ]
    }
   ],
   "source": [
    "print ('Objective Value When S2=Sw: ', obj_sw)\n",
    "print ('Objective Value When S2=St: ', obj_st)"
   ]
  },
  {
   "cell_type": "markdown",
   "metadata": {},
   "source": [
    "# It follows that the use of SVD Algorithm with $S_2=S_w$ leads to suboptimal solutions."
   ]
  },
  {
   "cell_type": "markdown",
   "metadata": {},
   "source": [
    "# <font color='red'> Another Very Strong Evidence</font>"
   ]
  },
  {
   "cell_type": "markdown",
   "metadata": {},
   "source": [
    "Another very strong evidence that shows the choice $S_2=S_w$ for the SVD algorithm is wrong, is that the solution of the SVD algorithm with $S_2=S_w$ is not an eigenvector."
   ]
  },
  {
   "cell_type": "code",
   "execution_count": 27,
   "metadata": {},
   "outputs": [
    {
     "data": {
      "text/plain": [
       "array([[ 3.53846154],\n",
       "       [ 1.69230769],\n",
       "       [-2.46153846],\n",
       "       [ 1.69230769]])"
      ]
     },
     "execution_count": 27,
     "metadata": {},
     "output_type": "execute_result"
    }
   ],
   "source": [
    "(St @ A_w) / (Sb @ A_w)"
   ]
  },
  {
   "cell_type": "code",
   "execution_count": 29,
   "metadata": {},
   "outputs": [
    {
     "data": {
      "text/plain": [
       "array([[1.],\n",
       "       [1.],\n",
       "       [1.],\n",
       "       [1.]])"
      ]
     },
     "execution_count": 29,
     "metadata": {},
     "output_type": "execute_result"
    }
   ],
   "source": [
    "(St @ A_t) / (Sb @ A_t)"
   ]
  },
  {
   "cell_type": "markdown",
   "metadata": {},
   "source": [
    "### <font color='red'> Author: Sayed Kamaledin Ghiasi-Shrirazi <a href=\"http://profsite.um.ac.ir/~k.ghiasi\">(http://profsite.um.ac.ir/~k.ghiasi)</a> </font>"
   ]
  }
 ],
 "metadata": {
  "kernelspec": {
   "display_name": "Python 3",
   "language": "python",
   "name": "python3"
  },
  "language_info": {
   "codemirror_mode": {
    "name": "ipython",
    "version": 3
   },
   "file_extension": ".py",
   "mimetype": "text/x-python",
   "name": "python",
   "nbconvert_exporter": "python",
   "pygments_lexer": "ipython3",
   "version": "3.8.5"
  }
 },
 "nbformat": 4,
 "nbformat_minor": 2
}
