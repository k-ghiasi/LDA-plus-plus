{
 "cells": [
  {
   "cell_type": "markdown",
   "metadata": {},
   "source": [
    "## <font color='green'> <div align=\"center\">In the name of God </div></font>"
   ]
  },
  {
   "cell_type": "markdown",
   "metadata": {},
   "source": [
    "### <font color='red'> Author: Sayed Kamaledin Ghiasi-Shrirazi <a href=\"http://profsite.um.ac.ir/~k.ghiasi\">(http://profsite.um.ac.ir/~k.ghiasi)</a> </font>"
   ]
  },
  {
   "cell_type": "markdown",
   "metadata": {},
   "source": [
    "# Recognition accuracy experiments on the feret face recognition dataset with a regularization parameter of $10$"
   ]
  },
  {
   "cell_type": "markdown",
   "metadata": {},
   "source": [
    "##### Importing general modules."
   ]
  },
  {
   "cell_type": "code",
   "execution_count": 1,
   "metadata": {},
   "outputs": [],
   "source": [
    "import numpy as np\n",
    "import matplotlib.pyplot as plt\n",
    "from matplotlib.patches import Ellipse\n",
    "import sklearn\n",
    "import scipy.stats as st\n",
    "import scipy.io as sio\n",
    "import time\n",
    "import matplotlib.image as mpimg\n",
    "import matplotlib as mpl\n",
    "import os\n",
    "import cv2"
   ]
  },
  {
   "cell_type": "markdown",
   "metadata": {},
   "source": [
    "##### Importing modules wtitten by the author"
   ]
  },
  {
   "cell_type": "code",
   "execution_count": 2,
   "metadata": {},
   "outputs": [],
   "source": [
    "from LinearDiscriminantAnalysis import LinearDiscriminantAnalysis\n",
    "from LDATrainingDataPreparation import TrainingData\n",
    "from NearestNeighbor import NearestNeighbor"
   ]
  },
  {
   "cell_type": "markdown",
   "metadata": {},
   "source": [
    "##### Setup"
   ]
  },
  {
   "cell_type": "code",
   "execution_count": 3,
   "metadata": {},
   "outputs": [],
   "source": [
    "C  = 2\n",
    "K = 20\n",
    "N_c = [822, 654]\n",
    "N = np.sum(N_c)\n",
    "maxVqIteration = 100\n",
    "width = 384//2\n",
    "height = 384//2\n",
    "reg =  10"
   ]
  },
  {
   "cell_type": "markdown",
   "metadata": {},
   "source": [
    "##### Load dataset"
   ]
  },
  {
   "cell_type": "code",
   "execution_count": 4,
   "metadata": {},
   "outputs": [],
   "source": [
    "path = '../datasets/feret'\n",
    "X = np.zeros ([N, height, width])\n",
    "y = np.zeros (N, dtype = int)\n",
    "\n",
    "n = 0\n",
    "for png_obj in os.listdir(path + '/Male'):\n",
    "    file = os.path.join(path, 'Male',png_obj)\n",
    "    img = mpimg.imread (file)\n",
    "    img = cv2.resize(img,(height,width))\n",
    "    X[n,:,:] = np.mean(img, axis=2)\n",
    "    y[n] = 0\n",
    "    n += 1\n",
    "\n",
    "for png_obj in os.listdir(path + '/Female'):\n",
    "    file = os.path.join(path, 'Female',png_obj)\n",
    "    img = mpimg.imread (file)\n",
    "    img = cv2.resize(img,(height,width))\n",
    "    X[n,:,:] = np.mean(img, axis=2)\n",
    "    y[n] = 1\n",
    "    n += 1\n",
    "\n",
    "X = X.reshape ([-1, height * width]) - np.mean(X)"
   ]
  },
  {
   "cell_type": "markdown",
   "metadata": {},
   "source": [
    "##### Defining a function for computing accuracy on a specific dataset (i.e. a fold)"
   ]
  },
  {
   "cell_type": "code",
   "execution_count": 5,
   "metadata": {},
   "outputs": [],
   "source": [
    "def compute_accuracy(XTrain, yTrain, XTest, yTest, K, solver, metric_learning, S1, S2, regularization, min_svd):\n",
    "    np.random.seed(1)\n",
    "    td = TrainingData(XTrain, yTrain)\n",
    "\n",
    "    clusAlg = sklearn.cluster.KMeans()\n",
    "    clusAlg.max_iter = maxVqIteration\n",
    "    td.findSubclasses(np.ones(C, dtype = int)*K, clusAlg)\n",
    "    \n",
    "    #for i in range(td.C):\n",
    "    #    for j in range (td.Ki[i]):\n",
    "    #        X = td.subclassMeans[i,j,:]\n",
    "    #        img = np.zeros ([height,width, 3])\n",
    "    #        img[:,:,0] = img[:,:,1] = img[:,:,2] = np.reshape(X, [height, width])\n",
    "    #        plt.imshow (img)\n",
    "    #        plt.show()    \n",
    "    \n",
    "    lda = LinearDiscriminantAnalysis(td, solver, metric_learning, S1, S2, regularization, min_svd)\n",
    "    lda.fitFeatureExtractor()\n",
    "    obj = lda.objective()\n",
    "    \n",
    "    XTrainFtr = lda.transform (XTrain)\n",
    "    XTestFtr  = lda.transform (XTest)\n",
    "    accNN = NearestNeighbor (XTrainFtr, yTrain, XTestFtr, yTest)\n",
    "    return accNN, obj"
   ]
  },
  {
   "cell_type": "markdown",
   "metadata": {},
   "source": [
    "##### Defining a function for computing average accuracy on 10 folds"
   ]
  },
  {
   "cell_type": "code",
   "execution_count": 6,
   "metadata": {},
   "outputs": [],
   "source": [
    "def compute_average_accuracy (solver, metric_learning, S1, S2, reg):\n",
    "    nFolds = 10\n",
    "    accNN = np.zeros ([nFolds])\n",
    "    accProjNN = np.zeros ([nFolds])\n",
    "    obj = np.zeros ([nFolds])\n",
    "    \n",
    "    N, dim = X.shape\n",
    "    C = max(y)+1\n",
    "    Ki = np.bincount (y)\n",
    "    Xc = np.zeros ([C, max(Ki), dim] )\n",
    "    for c in range (C):\n",
    "        Xc[c,:Ki[c],:] = X[y == c,:]\n",
    "        \n",
    "    np.random.seed(1)\n",
    "    for fold in range (nFolds):\n",
    "        idxTrn = 0\n",
    "        idxTst = 0\n",
    "        NTest = np.sum ((Ki+nFolds-1) // nFolds)\n",
    "        NTrain = N - NTest\n",
    "        XTrain = np.zeros ([NTrain, dim])\n",
    "        yTrain = np.zeros ([NTrain])\n",
    "        XTest = np.zeros ([NTest, dim])\n",
    "        yTest = np.zeros ([NTest])\n",
    "        for c in range (C):\n",
    "            idx1 = fold * (Ki[c] // nFolds)\n",
    "            idx2 = idx1 + (Ki[c]+nFolds-1) // nFolds\n",
    "            if idx2 > Ki[c]:\n",
    "                idx2 = Ki[c]\n",
    "                idx1 -= 1\n",
    "            XTrain1 = Xc[c,:idx1,:]\n",
    "            XTrain2 = Xc[c,idx2:Ki[c],:]\n",
    "            length  = Ki[c] - (idx2 - idx1)\n",
    "            XTrain[idxTrn:idxTrn+length,:]  = np.concatenate((XTrain1, XTrain2), axis = 0)\n",
    "            yTrain[idxTrn:idxTrn+length]    = c\n",
    "            idxTrn += length\n",
    "            length  = (idx2 - idx1)\n",
    "            XTest[idxTst:idxTst+length,:]   = Xc[c,idx1:idx2,:]\n",
    "            yTest[idxTst:idxTst+length]     = c\n",
    "            idxTst += length\n",
    "        (obj[fold], accNN[fold]) = \\\n",
    "                compute_accuracy(XTrain, yTrain, XTest, yTest, K, solver, metric_learning, S1, S2, reg, 0.00001)\n",
    "\n",
    "    return obj, accNN"
   ]
  },
  {
   "cell_type": "code",
   "execution_count": 7,
   "metadata": {},
   "outputs": [
    {
     "name": "stdout",
     "output_type": "stream",
     "text": [
      "\n",
      "accNN Mean:  83.95973154362416 Std of Mean Accuracy:  4.446277067128021 Objective: 6.109498666053435 Objective-std: 0.07387116382758208\n"
     ]
    }
   ],
   "source": [
    "solver = 'svd'\n",
    "S1 ='Sb'\n",
    "S2 = 'St'\n",
    "accNN, obj = compute_average_accuracy (solver, '', S1, S2, reg)\n",
    "for (name, acc) in [('accNN', accNN)]:\n",
    "    print ('')\n",
    "    acc *= 100\n",
    "    print (name , 'Mean: ', np.mean (acc), 'Std of Mean Accuracy: ', \n",
    "           np.std (acc), 'Objective:', np.mean(obj), 'Objective-std:', np.std(obj))"
   ]
  },
  {
   "cell_type": "code",
   "execution_count": 8,
   "metadata": {},
   "outputs": [
    {
     "name": "stdout",
     "output_type": "stream",
     "text": [
      "\n",
      "accNN Mean:  83.35570469798657 Std of Mean Accuracy:  3.3930804455743724 Objective: 6.109498666053435 Objective-std: 0.07387116382758879\n"
     ]
    }
   ],
   "source": [
    "solver = 'ghiasi_svd'\n",
    "S1 ='Sb'\n",
    "S2 = 'St'\n",
    "accNN, obj = compute_average_accuracy (solver, 'none', S1, S2, reg)\n",
    "for (name, acc) in [('accNN', accNN)]:\n",
    "    print ('')\n",
    "    acc *= 100\n",
    "    print (name , 'Mean: ', np.mean (acc), 'Std of Mean Accuracy: ', \n",
    "           np.std (acc), 'Objective:', np.mean(obj), 'Objective-std:', np.std(obj))"
   ]
  },
  {
   "cell_type": "code",
   "execution_count": 9,
   "metadata": {},
   "outputs": [
    {
     "name": "stdout",
     "output_type": "stream",
     "text": [
      "\n",
      "accNN Mean:  84.09395973154362 Std of Mean Accuracy:  4.640588969949671 Objective: 6.109498666053434 Objective-std: 0.07387116382758332\n"
     ]
    }
   ],
   "source": [
    "solver = 'ghiasi_svd'\n",
    "S1 ='Sb'\n",
    "S2 = 'St'\n",
    "accNN, obj = compute_average_accuracy (solver, 'eig', S1, S2, reg)\n",
    "for (name, acc) in [('accNN', accNN)]:\n",
    "    print ('')\n",
    "    acc *= 100\n",
    "    print (name , 'Mean: ', np.mean (acc), 'Std of Mean Accuracy: ', \n",
    "           np.std (acc), 'Objective:', np.mean(obj), 'Objective-std:', np.std(obj))"
   ]
  },
  {
   "cell_type": "markdown",
   "metadata": {},
   "source": [
    "### <font color='red'> Author: Sayed Kamaledin Ghiasi-Shrirazi <a href=\"http://profsite.um.ac.ir/~k.ghiasi\">(http://profsite.um.ac.ir/~k.ghiasi)</a> </font>"
   ]
  }
 ],
 "metadata": {
  "kernelspec": {
   "display_name": "Python 3",
   "language": "python",
   "name": "python3"
  },
  "language_info": {
   "codemirror_mode": {
    "name": "ipython",
    "version": 3
   },
   "file_extension": ".py",
   "mimetype": "text/x-python",
   "name": "python",
   "nbconvert_exporter": "python",
   "pygments_lexer": "ipython3",
   "version": "3.8.5"
  }
 },
 "nbformat": 4,
 "nbformat_minor": 2
}
